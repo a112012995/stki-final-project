{
 "cells": [
  {
   "cell_type": "markdown",
   "metadata": {},
   "source": [
    "# Pencarian Lagu melalui Lirik dengan Pendekatan TF-IDF dan Cosine Similarity\n"
   ]
  },
  {
   "cell_type": "markdown",
   "metadata": {},
   "source": [
    "Nama : Ahmad Fajar Kusumajati\n",
    "\n",
    "NIM : A11.2020.12995\n",
    "\n",
    "Kelompok : A11.4708\n"
   ]
  },
  {
   "cell_type": "markdown",
   "metadata": {},
   "source": [
    "Import library yang dibutuhkan\n"
   ]
  },
  {
   "cell_type": "code",
   "execution_count": 1,
   "metadata": {},
   "outputs": [],
   "source": [
    "import warnings\n",
    "import pandas as pd\n",
    "import numpy as np\n",
    "\n",
    "from sklearn.feature_extraction.text import TfidfVectorizer\n",
    "from sklearn.metrics.pairwise import cosine_similarity\n",
    "from sklearn.model_selection import cross_val_score, train_test_split\n",
    "\n",
    "warnings.filterwarnings(\"ignore\")"
   ]
  },
  {
   "cell_type": "markdown",
   "metadata": {},
   "source": [
    "## 1. Dataset\n"
   ]
  },
  {
   "cell_type": "markdown",
   "metadata": {},
   "source": [
    "Dataset yang digunakan untuk eksperimen ini didapatkan dari kaggle dengan judul [Song lyrics from 79 musical genres](https://www.kaggle.com/datasets/neisse/scrapped-lyrics-from-6-genres). Terdapat 2 dataset yang digunakan, yaitu dataset yang berisi informasi lirik lagu dan dataset yang berisi informasi artists. Dataset yang berisi informasi lirik lagu memiliki 5 kolom yaitu ALink, SName, SLink, Lyric, dan language dengan 379931 baris data. Sedangkan dataset yang berisi informasi artists memiliki 5 kolom yaitu Artist, Genre, Songs, Popularity, Link dengan 4168 baris data. Kedua dataset tersebut kemudian digabungkan menjadi satu dataset dengan 4 kolom yaitu ALink, Artist, SName, dan Lyric yang diganti nama kolom tersebut menjadi artist_id, artist, title, dan lyrics.\n"
   ]
  },
  {
   "cell_type": "markdown",
   "metadata": {},
   "source": [
    "Melakukan import dataset lirik lagu\n"
   ]
  },
  {
   "cell_type": "code",
   "execution_count": 2,
   "metadata": {},
   "outputs": [
    {
     "data": {
      "text/html": [
       "<div>\n",
       "<style scoped>\n",
       "    .dataframe tbody tr th:only-of-type {\n",
       "        vertical-align: middle;\n",
       "    }\n",
       "\n",
       "    .dataframe tbody tr th {\n",
       "        vertical-align: top;\n",
       "    }\n",
       "\n",
       "    .dataframe thead th {\n",
       "        text-align: right;\n",
       "    }\n",
       "</style>\n",
       "<table border=\"1\" class=\"dataframe\">\n",
       "  <thead>\n",
       "    <tr style=\"text-align: right;\">\n",
       "      <th></th>\n",
       "      <th>artist_id</th>\n",
       "      <th>title</th>\n",
       "      <th>lyrics</th>\n",
       "    </tr>\n",
       "  </thead>\n",
       "  <tbody>\n",
       "    <tr>\n",
       "      <th>69</th>\n",
       "      <td>/ivete-sangalo/</td>\n",
       "      <td>Careless Whisper</td>\n",
       "      <td>I feel so unsure\\nAs I take your hand and lead...</td>\n",
       "    </tr>\n",
       "    <tr>\n",
       "      <th>86</th>\n",
       "      <td>/ivete-sangalo/</td>\n",
       "      <td>Could You Be Loved / Citação Musical do Rap: S...</td>\n",
       "      <td>Don't let them fool, ya\\nOr even try to school...</td>\n",
       "    </tr>\n",
       "    <tr>\n",
       "      <th>88</th>\n",
       "      <td>/ivete-sangalo/</td>\n",
       "      <td>Cruisin' (Part. Saulo)</td>\n",
       "      <td>Baby, let's cruise, away from here\\nDon't be c...</td>\n",
       "    </tr>\n",
       "    <tr>\n",
       "      <th>111</th>\n",
       "      <td>/ivete-sangalo/</td>\n",
       "      <td>Easy</td>\n",
       "      <td>Know it sounds funny\\nBut, I just can't stand ...</td>\n",
       "    </tr>\n",
       "    <tr>\n",
       "      <th>140</th>\n",
       "      <td>/ivete-sangalo/</td>\n",
       "      <td>For Your Babies (The Voice cover)</td>\n",
       "      <td>You've got that look again\\nThe one I hoped I ...</td>\n",
       "    </tr>\n",
       "  </tbody>\n",
       "</table>\n",
       "</div>"
      ],
      "text/plain": [
       "           artist_id                                              title  \\\n",
       "69   /ivete-sangalo/                                   Careless Whisper   \n",
       "86   /ivete-sangalo/  Could You Be Loved / Citação Musical do Rap: S...   \n",
       "88   /ivete-sangalo/                             Cruisin' (Part. Saulo)   \n",
       "111  /ivete-sangalo/                                               Easy   \n",
       "140  /ivete-sangalo/                  For Your Babies (The Voice cover)   \n",
       "\n",
       "                                                lyrics  \n",
       "69   I feel so unsure\\nAs I take your hand and lead...  \n",
       "86   Don't let them fool, ya\\nOr even try to school...  \n",
       "88   Baby, let's cruise, away from here\\nDon't be c...  \n",
       "111  Know it sounds funny\\nBut, I just can't stand ...  \n",
       "140  You've got that look again\\nThe one I hoped I ...  "
      ]
     },
     "execution_count": 2,
     "metadata": {},
     "output_type": "execute_result"
    }
   ],
   "source": [
    "df_lyrics = pd.read_csv('data/lyrics-data.csv')\n",
    "df_lyrics = df_lyrics[df_lyrics['language'] == 'en']\n",
    "df_lyrics.rename(columns={'SName': 'title',\n",
    "                          'Lyric': 'lyrics', 'ALink': 'artist_id'}, inplace=True)\n",
    "df_lyrics.drop(columns=['SLink', 'language'], inplace=True)\n",
    "df_lyrics.dropna(inplace=True)\n",
    "df_lyrics.head()"
   ]
  },
  {
   "cell_type": "markdown",
   "metadata": {},
   "source": [
    "Melakukan import dataset artists\n"
   ]
  },
  {
   "cell_type": "code",
   "execution_count": 3,
   "metadata": {},
   "outputs": [
    {
     "data": {
      "text/html": [
       "<div>\n",
       "<style scoped>\n",
       "    .dataframe tbody tr th:only-of-type {\n",
       "        vertical-align: middle;\n",
       "    }\n",
       "\n",
       "    .dataframe tbody tr th {\n",
       "        vertical-align: top;\n",
       "    }\n",
       "\n",
       "    .dataframe thead th {\n",
       "        text-align: right;\n",
       "    }\n",
       "</style>\n",
       "<table border=\"1\" class=\"dataframe\">\n",
       "  <thead>\n",
       "    <tr style=\"text-align: right;\">\n",
       "      <th></th>\n",
       "      <th>artist</th>\n",
       "      <th>artist_id</th>\n",
       "    </tr>\n",
       "  </thead>\n",
       "  <tbody>\n",
       "    <tr>\n",
       "      <th>0</th>\n",
       "      <td>Ivete Sangalo</td>\n",
       "      <td>/ivete-sangalo/</td>\n",
       "    </tr>\n",
       "    <tr>\n",
       "      <th>4</th>\n",
       "      <td>Claudia Leitte</td>\n",
       "      <td>/claudia-leitte/</td>\n",
       "    </tr>\n",
       "    <tr>\n",
       "      <th>7</th>\n",
       "      <td>Daniela Mercury</td>\n",
       "      <td>/daniela-mercury/</td>\n",
       "    </tr>\n",
       "    <tr>\n",
       "      <th>8</th>\n",
       "      <td>Olodum</td>\n",
       "      <td>/olodum/</td>\n",
       "    </tr>\n",
       "    <tr>\n",
       "      <th>13</th>\n",
       "      <td>Carlinhos Brown</td>\n",
       "      <td>/carlinhos-brown/</td>\n",
       "    </tr>\n",
       "  </tbody>\n",
       "</table>\n",
       "</div>"
      ],
      "text/plain": [
       "             artist          artist_id\n",
       "0     Ivete Sangalo    /ivete-sangalo/\n",
       "4    Claudia Leitte   /claudia-leitte/\n",
       "7   Daniela Mercury  /daniela-mercury/\n",
       "8            Olodum           /olodum/\n",
       "13  Carlinhos Brown  /carlinhos-brown/"
      ]
     },
     "execution_count": 3,
     "metadata": {},
     "output_type": "execute_result"
    }
   ],
   "source": [
    "df_artists = pd.read_csv('data/artists-data.csv')\n",
    "df_artists.drop(columns=['Genres', 'Songs', 'Popularity'], inplace=True)\n",
    "df_artists.rename(columns={'Artist': 'artist',\n",
    "                  'Link': 'artist_id'}, inplace=True)\n",
    "df_artists.columns = df_artists.columns.str.lower()\n",
    "df_artists.dropna(inplace=True)\n",
    "df_artists = df_artists[df_artists['artist_id'].isin(\n",
    "    df_lyrics['artist_id'].unique())]\n",
    "df_artists.head()"
   ]
  },
  {
   "cell_type": "markdown",
   "metadata": {},
   "source": [
    "Menggabungkan dataset lirik lagu dan artists\n"
   ]
  },
  {
   "cell_type": "code",
   "execution_count": 4,
   "metadata": {},
   "outputs": [
    {
     "data": {
      "text/html": [
       "<div>\n",
       "<style scoped>\n",
       "    .dataframe tbody tr th:only-of-type {\n",
       "        vertical-align: middle;\n",
       "    }\n",
       "\n",
       "    .dataframe tbody tr th {\n",
       "        vertical-align: top;\n",
       "    }\n",
       "\n",
       "    .dataframe thead th {\n",
       "        text-align: right;\n",
       "    }\n",
       "</style>\n",
       "<table border=\"1\" class=\"dataframe\">\n",
       "  <thead>\n",
       "    <tr style=\"text-align: right;\">\n",
       "      <th></th>\n",
       "      <th>artist_id</th>\n",
       "      <th>artist</th>\n",
       "      <th>title</th>\n",
       "      <th>lyrics</th>\n",
       "    </tr>\n",
       "  </thead>\n",
       "  <tbody>\n",
       "    <tr>\n",
       "      <th>0</th>\n",
       "      <td>/ivete-sangalo/</td>\n",
       "      <td>Ivete Sangalo</td>\n",
       "      <td>Careless Whisper</td>\n",
       "      <td>I feel so unsure\\nAs I take your hand and lead...</td>\n",
       "    </tr>\n",
       "    <tr>\n",
       "      <th>1</th>\n",
       "      <td>/ivete-sangalo/</td>\n",
       "      <td>Ivete Sangalo</td>\n",
       "      <td>Could You Be Loved / Citação Musical do Rap: S...</td>\n",
       "      <td>Don't let them fool, ya\\nOr even try to school...</td>\n",
       "    </tr>\n",
       "    <tr>\n",
       "      <th>2</th>\n",
       "      <td>/ivete-sangalo/</td>\n",
       "      <td>Ivete Sangalo</td>\n",
       "      <td>Cruisin' (Part. Saulo)</td>\n",
       "      <td>Baby, let's cruise, away from here\\nDon't be c...</td>\n",
       "    </tr>\n",
       "    <tr>\n",
       "      <th>3</th>\n",
       "      <td>/ivete-sangalo/</td>\n",
       "      <td>Ivete Sangalo</td>\n",
       "      <td>Easy</td>\n",
       "      <td>Know it sounds funny\\nBut, I just can't stand ...</td>\n",
       "    </tr>\n",
       "    <tr>\n",
       "      <th>4</th>\n",
       "      <td>/ivete-sangalo/</td>\n",
       "      <td>Ivete Sangalo</td>\n",
       "      <td>For Your Babies (The Voice cover)</td>\n",
       "      <td>You've got that look again\\nThe one I hoped I ...</td>\n",
       "    </tr>\n",
       "  </tbody>\n",
       "</table>\n",
       "</div>"
      ],
      "text/plain": [
       "         artist_id         artist  \\\n",
       "0  /ivete-sangalo/  Ivete Sangalo   \n",
       "1  /ivete-sangalo/  Ivete Sangalo   \n",
       "2  /ivete-sangalo/  Ivete Sangalo   \n",
       "3  /ivete-sangalo/  Ivete Sangalo   \n",
       "4  /ivete-sangalo/  Ivete Sangalo   \n",
       "\n",
       "                                               title  \\\n",
       "0                                   Careless Whisper   \n",
       "1  Could You Be Loved / Citação Musical do Rap: S...   \n",
       "2                             Cruisin' (Part. Saulo)   \n",
       "3                                               Easy   \n",
       "4                  For Your Babies (The Voice cover)   \n",
       "\n",
       "                                              lyrics  \n",
       "0  I feel so unsure\\nAs I take your hand and lead...  \n",
       "1  Don't let them fool, ya\\nOr even try to school...  \n",
       "2  Baby, let's cruise, away from here\\nDon't be c...  \n",
       "3  Know it sounds funny\\nBut, I just can't stand ...  \n",
       "4  You've got that look again\\nThe one I hoped I ...  "
      ]
     },
     "execution_count": 4,
     "metadata": {},
     "output_type": "execute_result"
    }
   ],
   "source": [
    "df = pd.merge(df_lyrics, df_artists, on='artist_id')\n",
    "df = df[['artist_id', 'artist', 'title', 'lyrics']]\n",
    "df.head()"
   ]
  },
  {
   "cell_type": "markdown",
   "metadata": {},
   "source": [
    "Melakukan cek missing value\n"
   ]
  },
  {
   "cell_type": "code",
   "execution_count": 5,
   "metadata": {},
   "outputs": [
    {
     "data": {
      "text/plain": [
       "artist_id    0\n",
       "artist       0\n",
       "title        0\n",
       "lyrics       0\n",
       "dtype: int64"
      ]
     },
     "execution_count": 5,
     "metadata": {},
     "output_type": "execute_result"
    }
   ],
   "source": [
    "df.isnull().sum()"
   ]
  },
  {
   "cell_type": "markdown",
   "metadata": {},
   "source": [
    "## 2. Permasalahan atau Tujuan Eksperimen\n"
   ]
  },
  {
   "cell_type": "markdown",
   "metadata": {},
   "source": [
    "Tujuan dari eksperimen ini adalah untuk mencari tau bagaimana cara mencari lagu berdasarkan lirik lagu yang dimasukkan oleh user. Dengan menggunakan pendekatan TF-IDF dan Cosine Similarity, diharapkan dapat menemukan lagu yang sesuai dengan lirik yang dimasukkan oleh user.\n"
   ]
  },
  {
   "cell_type": "markdown",
   "metadata": {},
   "source": [
    "## 3. Tahapan Eksperimen\n"
   ]
  },
  {
   "cell_type": "markdown",
   "metadata": {},
   "source": [
    "Dari dataset yang telah digabungkan, dilakukan preprocessing terhadap kolom lyrics. Preprocessing yang dilakukan adalah menghapus tanda baca, menghapus angka, menghapus kata-kata yang tidak penting, menghapus kata-kata yang terdapat dalam stopwords, dan mengubah semua kata menjadi huruf kecil. Setelah itu, dilakukan proses tokenisasi dan stemming. Setelah proses preprocessing selesai, dilakukan proses pembobotan dengan menggunakan TF-IDF. Setelah proses pembobotan selesai, dilakukan proses pencarian lagu berdasarkan lirik yang dimasukkan oleh user dengan menggunakan pendekatan Cosine Similarity. Lagu yang ditemukan akan ditampilkan kepada user.\n"
   ]
  },
  {
   "cell_type": "markdown",
   "metadata": {},
   "source": [
    "Menggunakan TF-IDF dan Cosine Similarity untuk mencari kemiripan lirik lagu\n"
   ]
  },
  {
   "cell_type": "code",
   "execution_count": 6,
   "metadata": {},
   "outputs": [],
   "source": [
    "tfidf_vectorizer = TfidfVectorizer(stop_words='english')\n",
    "tfidf_matrix = tfidf_vectorizer.fit_transform(df['lyrics'])"
   ]
  },
  {
   "cell_type": "code",
   "execution_count": 7,
   "metadata": {},
   "outputs": [],
   "source": [
    "def recommender(input_text, top_n=10):\n",
    "    input_tfidf_vector = tfidf_vectorizer.transform([input_text])\n",
    "    similarities = cosine_similarity(input_tfidf_vector, tfidf_matrix)\n",
    "    similar_songs_indices = similarities.argsort()[0][-top_n:][::-1]\n",
    "    recommended_songs = df.iloc[similar_songs_indices][['artist', 'title']]\n",
    "    recommended_songs['similarity_score'] = similarities[0,\n",
    "                                                         similar_songs_indices]\n",
    "    return recommended_songs"
   ]
  },
  {
   "cell_type": "markdown",
   "metadata": {},
   "source": [
    "## 4. Pengujian\n"
   ]
  },
  {
   "cell_type": "markdown",
   "metadata": {},
   "source": [
    "Pengujian dilakukan dengan cara manual dengan memasukkan lirik lagu. Lirik lagu yang dimasukkan adalah lirik lagu yang terdapat pada dataset. Dari hasil pengujian, lagu yang dimasukkan akan ditemukan oleh program dan ditampilkan kepada user.\n"
   ]
  },
  {
   "cell_type": "markdown",
   "metadata": {},
   "source": [
    "### 1. Contoh pencarian lagu berjudul \"Shadow Moses\" oleh Bring Me The Horizon dengan memasukan lirik \"This is sempiternal\"\n"
   ]
  },
  {
   "cell_type": "code",
   "execution_count": 8,
   "metadata": {},
   "outputs": [
    {
     "name": "stdout",
     "output_type": "stream",
     "text": [
      "\n",
      "Recommended Songs for Input: 'This is sempiternal'\n",
      "                     artist                          title  similarity_score\n",
      "71036  Bring Me The Horizon                   Shadow Moses          0.501670\n",
      "92092                Samael                           Ave!          0.242627\n",
      "52640             Eluveitie                       Sucellos          0.153403\n",
      "52623             Eluveitie                      Inception          0.150330\n",
      "63791               Bauhaus        Spirit (single version)          0.000000\n",
      "63799               Bauhaus             The Spy In The Cab          0.000000\n",
      "63798               Bauhaus                  The Passenger          0.000000\n",
      "63797               Bauhaus    The Man With the X-Ray Eyes          0.000000\n",
      "63796               Bauhaus  The Lady in the Radiator Song          0.000000\n",
      "63795               Bauhaus     Terror Couple Kill Colonel          0.000000\n"
     ]
    }
   ],
   "source": [
    "input_text = \"This is sempiternal\"\n",
    "top_n = 10\n",
    "recommended_songs = recommender(input_text, top_n=top_n)\n",
    "\n",
    "print(f\"\\nRecommended Songs for Input: '{input_text}'\")\n",
    "print(recommended_songs)"
   ]
  },
  {
   "cell_type": "code",
   "execution_count": 9,
   "metadata": {},
   "outputs": [
    {
     "data": {
      "text/html": [
       "<div>\n",
       "<style scoped>\n",
       "    .dataframe tbody tr th:only-of-type {\n",
       "        vertical-align: middle;\n",
       "    }\n",
       "\n",
       "    .dataframe tbody tr th {\n",
       "        vertical-align: top;\n",
       "    }\n",
       "\n",
       "    .dataframe thead th {\n",
       "        text-align: right;\n",
       "    }\n",
       "</style>\n",
       "<table border=\"1\" class=\"dataframe\">\n",
       "  <thead>\n",
       "    <tr style=\"text-align: right;\">\n",
       "      <th></th>\n",
       "      <th>artist_id</th>\n",
       "      <th>artist</th>\n",
       "      <th>title</th>\n",
       "      <th>lyrics</th>\n",
       "    </tr>\n",
       "  </thead>\n",
       "  <tbody>\n",
       "    <tr>\n",
       "      <th>71036</th>\n",
       "      <td>/bring-me-the-horizon/</td>\n",
       "      <td>Bring Me The Horizon</td>\n",
       "      <td>Shadow Moses</td>\n",
       "      <td>Can you tell from the look in our eyes?\\nWe're...</td>\n",
       "    </tr>\n",
       "  </tbody>\n",
       "</table>\n",
       "</div>"
      ],
      "text/plain": [
       "                    artist_id                artist         title  \\\n",
       "71036  /bring-me-the-horizon/  Bring Me The Horizon  Shadow Moses   \n",
       "\n",
       "                                                  lyrics  \n",
       "71036  Can you tell from the look in our eyes?\\nWe're...  "
      ]
     },
     "execution_count": 9,
     "metadata": {},
     "output_type": "execute_result"
    }
   ],
   "source": [
    "sempiternal = df[(df['title'] == 'Shadow Moses')\n",
    "                 & (df['artist'] == 'Bring Me The Horizon')]\n",
    "sempiternal"
   ]
  },
  {
   "cell_type": "markdown",
   "metadata": {},
   "source": [
    "Disimpulkan bahwa lagu yang berjudul \"Shadow Moses\" oleh Bring Me The Horizon dapat ditemukan dengan memasukkan lirik \"This is sempiternal\" karena memiliki kemiripan lirik sebesar 0.5.\n"
   ]
  },
  {
   "cell_type": "markdown",
   "metadata": {},
   "source": [
    "### 2. Contoh pencarian lagu berjudul \"Blue (da Ba Dee)\" oleh Blue dengan memasukan lirik \"I'm blue da ba dee da ba daa\"\n"
   ]
  },
  {
   "cell_type": "code",
   "execution_count": 10,
   "metadata": {},
   "outputs": [
    {
     "name": "stdout",
     "output_type": "stream",
     "text": [
      "\n",
      "Recommended Songs for Input: 'I'm blue da ba dee da ba daa'\n",
      "                  artist                                    title  \\\n",
      "138118              Blue                         Blue (da Ba Dee)   \n",
      "114507            Beulah               A Good Man Is Easy To Kill   \n",
      "97429   Gym Class Heroes  Cupid's Chokehold (feat. Patrick Stump)   \n",
      "5283             Cherish                        Cupid's Chokehold   \n",
      "142924      All Time Low                                 Birthday   \n",
      "119267          LazyTown                    Cleaning All Together   \n",
      "186920           America                     People In The Valley   \n",
      "118851        Gummy Bear                         Blue (Da Ba Dee)   \n",
      "141172    Geri Halliwell                Perhaps, Perhaps, Perhaps   \n",
      "31901            Madonna                  To Have And Not To Hold   \n",
      "\n",
      "        similarity_score  \n",
      "138118          0.851909  \n",
      "114507          0.785105  \n",
      "97429           0.776989  \n",
      "5283            0.776896  \n",
      "142924          0.755564  \n",
      "119267          0.714401  \n",
      "186920          0.700590  \n",
      "118851          0.688969  \n",
      "141172          0.668330  \n",
      "31901           0.665179  \n"
     ]
    }
   ],
   "source": [
    "# Usage of the recommender function\n",
    "input_text = \"I'm blue da ba dee da ba daa\"\n",
    "top_n = 10\n",
    "recommended_songs = recommender(input_text, top_n=top_n)\n",
    "\n",
    "# Display the recommended songs with similarity scores\n",
    "print(f\"\\nRecommended Songs for Input: '{input_text}'\")\n",
    "print(recommended_songs)"
   ]
  },
  {
   "cell_type": "code",
   "execution_count": 11,
   "metadata": {},
   "outputs": [
    {
     "data": {
      "text/html": [
       "<div>\n",
       "<style scoped>\n",
       "    .dataframe tbody tr th:only-of-type {\n",
       "        vertical-align: middle;\n",
       "    }\n",
       "\n",
       "    .dataframe tbody tr th {\n",
       "        vertical-align: top;\n",
       "    }\n",
       "\n",
       "    .dataframe thead th {\n",
       "        text-align: right;\n",
       "    }\n",
       "</style>\n",
       "<table border=\"1\" class=\"dataframe\">\n",
       "  <thead>\n",
       "    <tr style=\"text-align: right;\">\n",
       "      <th></th>\n",
       "      <th>artist_id</th>\n",
       "      <th>artist</th>\n",
       "      <th>title</th>\n",
       "      <th>lyrics</th>\n",
       "    </tr>\n",
       "  </thead>\n",
       "  <tbody>\n",
       "    <tr>\n",
       "      <th>138118</th>\n",
       "      <td>/blue/</td>\n",
       "      <td>Blue</td>\n",
       "      <td>Blue (da Ba Dee)</td>\n",
       "      <td>Yo listen up here's a story\\nAbout a little gu...</td>\n",
       "    </tr>\n",
       "  </tbody>\n",
       "</table>\n",
       "</div>"
      ],
      "text/plain": [
       "       artist_id artist             title  \\\n",
       "138118    /blue/   Blue  Blue (da Ba Dee)   \n",
       "\n",
       "                                                   lyrics  \n",
       "138118  Yo listen up here's a story\\nAbout a little gu...  "
      ]
     },
     "execution_count": 11,
     "metadata": {},
     "output_type": "execute_result"
    }
   ],
   "source": [
    "blue = df[(df['title'] == 'Blue (da Ba Dee)') & (df['artist'] == 'Blue')]\n",
    "blue"
   ]
  },
  {
   "cell_type": "markdown",
   "metadata": {},
   "source": [
    "Disimpulkan bahwa lagu yang berjudul \"Blue (da Ba Dee)\" oleh Blue dapat ditemukan dengan memasukkan lirik \"I'm blue da ba dee da ba daa\" karena memiliki kemiripan lirik sebesar 0.85.\n"
   ]
  },
  {
   "cell_type": "markdown",
   "metadata": {},
   "source": [
    "### 3. Contoh pencarian lagu berjudul \"Hello\" oleh Adele dengan memasukan setidaknya 1 paragraf lirik lagu\n"
   ]
  },
  {
   "cell_type": "code",
   "execution_count": 12,
   "metadata": {},
   "outputs": [
    {
     "name": "stdout",
     "output_type": "stream",
     "text": [
      "\n",
      "Recommended Songs for Input: 'Hello from the otherside I must've called a thousand times To tell you I'm sorry for everything that I've done But when I call, you never seem to be home'\n",
      "                artist                        title  similarity_score\n",
      "127932           Adele  Hello (Bradley Allan Remix)          0.566918\n",
      "127895           Adele                        Hello          0.511660\n",
      "146632    Boyce Avenue                        Hello          0.508983\n",
      "139921   Conor Maynard           Hello (Feat. Anth)          0.460379\n",
      "127933           Adele      Hello (Dave Audé Remix)          0.447459\n",
      "58245        Third Day                    Otherside          0.376696\n",
      "113743  Perfume Genius                    Otherside          0.376658\n",
      "133216            Glee                  Hello Again          0.375084\n",
      "142204        Paramore                  Hello Hello          0.360677\n",
      "111870  Tegan And Sara        Hello, I'm Right Here          0.355922\n"
     ]
    }
   ],
   "source": [
    "# Usage of the recommender function\n",
    "input_text = \"Hello from the otherside I must've called a thousand times To tell you I'm sorry for everything that I've done But when I call, you never seem to be home\"\n",
    "top_n = 10\n",
    "recommended_songs = recommender(input_text, top_n=top_n)\n",
    "\n",
    "# Display the recommended songs with similarity scores\n",
    "print(f\"\\nRecommended Songs for Input: '{input_text}'\")\n",
    "print(recommended_songs)"
   ]
  },
  {
   "cell_type": "code",
   "execution_count": 13,
   "metadata": {},
   "outputs": [
    {
     "data": {
      "text/html": [
       "<div>\n",
       "<style scoped>\n",
       "    .dataframe tbody tr th:only-of-type {\n",
       "        vertical-align: middle;\n",
       "    }\n",
       "\n",
       "    .dataframe tbody tr th {\n",
       "        vertical-align: top;\n",
       "    }\n",
       "\n",
       "    .dataframe thead th {\n",
       "        text-align: right;\n",
       "    }\n",
       "</style>\n",
       "<table border=\"1\" class=\"dataframe\">\n",
       "  <thead>\n",
       "    <tr style=\"text-align: right;\">\n",
       "      <th></th>\n",
       "      <th>artist_id</th>\n",
       "      <th>artist</th>\n",
       "      <th>title</th>\n",
       "      <th>lyrics</th>\n",
       "    </tr>\n",
       "  </thead>\n",
       "  <tbody>\n",
       "    <tr>\n",
       "      <th>127895</th>\n",
       "      <td>/adele/</td>\n",
       "      <td>Adele</td>\n",
       "      <td>Hello</td>\n",
       "      <td>Hello\\nIt's me\\nI was wondering if after all t...</td>\n",
       "    </tr>\n",
       "  </tbody>\n",
       "</table>\n",
       "</div>"
      ],
      "text/plain": [
       "       artist_id artist  title  \\\n",
       "127895   /adele/  Adele  Hello   \n",
       "\n",
       "                                                   lyrics  \n",
       "127895  Hello\\nIt's me\\nI was wondering if after all t...  "
      ]
     },
     "execution_count": 13,
     "metadata": {},
     "output_type": "execute_result"
    }
   ],
   "source": [
    "# generate code to find song titled 'Hello' and artist 'Adele'\n",
    "hello = df[(df['title'] == 'Hello') & (df['artist'] == 'Adele')]\n",
    "hello"
   ]
  },
  {
   "cell_type": "markdown",
   "metadata": {},
   "source": [
    "Disimpulkan bahwa lagu yang berjudul \"Hello\" oleh Adele dapat ditemukan dengan memasukkan setidaknya 1 paragraf lirik lagu.\n"
   ]
  },
  {
   "cell_type": "markdown",
   "metadata": {},
   "source": [
    "### 4. Contoh pencarian lagu berjudul \"Drown\" oleh Bring Me The Horizon dengan memasukan setidaknya 1 paragraf lirik lagu\n"
   ]
  },
  {
   "cell_type": "code",
   "execution_count": 14,
   "metadata": {},
   "outputs": [
    {
     "name": "stdout",
     "output_type": "stream",
     "text": [
      "\n",
      "Recommended Songs for Input: 'Who will fix me now? Dive in when I'm down? Save me from myself Don't let me drown Who will make me fight? Drag me out alive? Save me from myself Don't let me drown'\n",
      "                      artist  \\\n",
      "147440   5 Seconds Of Summer   \n",
      "70957   Bring Me The Horizon   \n",
      "129036         Avril Lavigne   \n",
      "95833                Ja Rule   \n",
      "71591            Limp Bizkit   \n",
      "3192             Chris Brown   \n",
      "66198            Soundgarden   \n",
      "129035         Avril Lavigne   \n",
      "90934                 Dokken   \n",
      "70005                   Kiss   \n",
      "\n",
      "                                                    title  similarity_score  \n",
      "147440  Drown (Bring Me the Horizon cover at the Live ...          0.675575  \n",
      "70957                                               Drown          0.659537  \n",
      "129036                Head Above Water (Ft. Travis Clark)          0.574428  \n",
      "95833                                               Drown          0.546025  \n",
      "71591                                               Drown          0.533007  \n",
      "3192                         Drown in It (Feat. R. Kelly)          0.528211  \n",
      "66198                                        Let Me Drown          0.483905  \n",
      "129035                                   Head Above Water          0.471389  \n",
      "90934                                               Drown          0.467376  \n",
      "70005                                      Save Your Love          0.441378  \n"
     ]
    }
   ],
   "source": [
    "# Usage of the recommender function\n",
    "input_text = \"Who will fix me now? Dive in when I'm down? Save me from myself Don't let me drown Who will make me fight? Drag me out alive? Save me from myself Don't let me drown\"\n",
    "top_n = 10\n",
    "recommended_songs = recommender(input_text, top_n=top_n)\n",
    "\n",
    "# Display the recommended songs with similarity scores\n",
    "print(f\"\\nRecommended Songs for Input: '{input_text}'\")\n",
    "print(recommended_songs)"
   ]
  },
  {
   "cell_type": "code",
   "execution_count": 15,
   "metadata": {},
   "outputs": [
    {
     "data": {
      "text/html": [
       "<div>\n",
       "<style scoped>\n",
       "    .dataframe tbody tr th:only-of-type {\n",
       "        vertical-align: middle;\n",
       "    }\n",
       "\n",
       "    .dataframe tbody tr th {\n",
       "        vertical-align: top;\n",
       "    }\n",
       "\n",
       "    .dataframe thead th {\n",
       "        text-align: right;\n",
       "    }\n",
       "</style>\n",
       "<table border=\"1\" class=\"dataframe\">\n",
       "  <thead>\n",
       "    <tr style=\"text-align: right;\">\n",
       "      <th></th>\n",
       "      <th>artist_id</th>\n",
       "      <th>artist</th>\n",
       "      <th>title</th>\n",
       "      <th>lyrics</th>\n",
       "    </tr>\n",
       "  </thead>\n",
       "  <tbody>\n",
       "    <tr>\n",
       "      <th>70957</th>\n",
       "      <td>/bring-me-the-horizon/</td>\n",
       "      <td>Bring Me The Horizon</td>\n",
       "      <td>Drown</td>\n",
       "      <td>What doesn't kill you makes you wish you were ...</td>\n",
       "    </tr>\n",
       "  </tbody>\n",
       "</table>\n",
       "</div>"
      ],
      "text/plain": [
       "                    artist_id                artist  title  \\\n",
       "70957  /bring-me-the-horizon/  Bring Me The Horizon  Drown   \n",
       "\n",
       "                                                  lyrics  \n",
       "70957  What doesn't kill you makes you wish you were ...  "
      ]
     },
     "execution_count": 15,
     "metadata": {},
     "output_type": "execute_result"
    }
   ],
   "source": [
    "drown = df[(df['title'] == 'Drown') & (df['artist'] == 'Bring Me The Horizon')]\n",
    "drown"
   ]
  },
  {
   "cell_type": "markdown",
   "metadata": {},
   "source": [
    "Disimpulkan bahwa lagu yang berjudul \"Drown\" oleh Bring Me The Horizon dapat ditemukan dengan memasukkan setidaknya 1 paragraf lirik lagu.\n"
   ]
  },
  {
   "cell_type": "markdown",
   "metadata": {},
   "source": [
    "### 5. Contoh pencarian lagu berjudul \"Mr. Blue Sky\" oleh Electric Light Orchestra dengan memasukan setidaknya 1 paragraf lirik lagu\n"
   ]
  },
  {
   "cell_type": "code",
   "execution_count": 16,
   "metadata": {},
   "outputs": [
    {
     "name": "stdout",
     "output_type": "stream",
     "text": [
      "\n",
      "Recommended Songs for Input: 'Sun is shinin' in the sky There ain't a cloud in sight It's stopped rainin', everybody's in the play And don't you know It's a beautiful new day? Hey'\n",
      "                     artist                              title  \\\n",
      "159910             Al Green                Rainin' In My Heart   \n",
      "23198      Carrie Underwood  Tears Of Gold (with David Bisbal)   \n",
      "159685          Ray Charles             Rainy Night in Georgia   \n",
      "23578         George Strait          Beautiful Day For Goodbye   \n",
      "24091          Brad Paisley                        Rainin' You   \n",
      "177849  Grand Funk Railroad                         Shinin' On   \n",
      "48234            Neil Young                Rainin' In Paradise   \n",
      "145009                   U2                      One Tree Hill   \n",
      "49688          Van Morrison                  Really Don't Know   \n",
      "11854        Rolling Stones                Get Off Of My Cloud   \n",
      "\n",
      "        similarity_score  \n",
      "159910          0.433681  \n",
      "23198           0.415143  \n",
      "159685          0.414733  \n",
      "23578           0.413362  \n",
      "24091           0.377772  \n",
      "177849          0.375526  \n",
      "48234           0.370188  \n",
      "145009          0.355030  \n",
      "49688           0.353891  \n",
      "11854           0.349919  \n"
     ]
    }
   ],
   "source": [
    "# Usage of the recommender function\n",
    "input_text = \"Sun is shinin' in the sky There ain't a cloud in sight It's stopped rainin', everybody's in the play And don't you know It's a beautiful new day? Hey\"\n",
    "top_n = 10\n",
    "recommended_songs = recommender(input_text, top_n=top_n)\n",
    "\n",
    "# Display the recommended songs with similarity scores\n",
    "print(f\"\\nRecommended Songs for Input: '{input_text}'\")\n",
    "print(recommended_songs)"
   ]
  },
  {
   "cell_type": "code",
   "execution_count": 17,
   "metadata": {},
   "outputs": [
    {
     "data": {
      "text/html": [
       "<div>\n",
       "<style scoped>\n",
       "    .dataframe tbody tr th:only-of-type {\n",
       "        vertical-align: middle;\n",
       "    }\n",
       "\n",
       "    .dataframe tbody tr th {\n",
       "        vertical-align: top;\n",
       "    }\n",
       "\n",
       "    .dataframe thead th {\n",
       "        text-align: right;\n",
       "    }\n",
       "</style>\n",
       "<table border=\"1\" class=\"dataframe\">\n",
       "  <thead>\n",
       "    <tr style=\"text-align: right;\">\n",
       "      <th></th>\n",
       "      <th>artist_id</th>\n",
       "      <th>artist</th>\n",
       "      <th>title</th>\n",
       "      <th>lyrics</th>\n",
       "    </tr>\n",
       "  </thead>\n",
       "  <tbody>\n",
       "    <tr>\n",
       "      <th>148424</th>\n",
       "      <td>/electric-light-orchestra/</td>\n",
       "      <td>Electric Light Orchestra</td>\n",
       "      <td>Mr. Blue Sky</td>\n",
       "      <td>\"warning! todays forecast calls for blue skys\"...</td>\n",
       "    </tr>\n",
       "  </tbody>\n",
       "</table>\n",
       "</div>"
      ],
      "text/plain": [
       "                         artist_id                    artist         title  \\\n",
       "148424  /electric-light-orchestra/  Electric Light Orchestra  Mr. Blue Sky   \n",
       "\n",
       "                                                   lyrics  \n",
       "148424  \"warning! todays forecast calls for blue skys\"...  "
      ]
     },
     "execution_count": 17,
     "metadata": {},
     "output_type": "execute_result"
    }
   ],
   "source": [
    "mr_blue_sky = df[(df['title'] == 'Mr. Blue Sky')\n",
    "                 & (df['artist'] == 'Electric Light Orchestra')]\n",
    "mr_blue_sky"
   ]
  },
  {
   "cell_type": "markdown",
   "metadata": {},
   "source": [
    "Disimpulkan bahwa lagu yang berjudul \"Mr. Blue Sky\" oleh Electric Light Orchestra tidak dapat ditemukan dengan memasukkan setidaknya 1 paragraf lirik lagu.\n"
   ]
  },
  {
   "cell_type": "markdown",
   "metadata": {},
   "source": [
    "## 5. Deployment\n"
   ]
  },
  {
   "cell_type": "markdown",
   "metadata": {},
   "source": []
  },
  {
   "cell_type": "markdown",
   "metadata": {},
   "source": []
  }
 ],
 "metadata": {
  "kernelspec": {
   "display_name": "text-processing",
   "language": "python",
   "name": "python3"
  },
  "language_info": {
   "codemirror_mode": {
    "name": "ipython",
    "version": 3
   },
   "file_extension": ".py",
   "mimetype": "text/x-python",
   "name": "python",
   "nbconvert_exporter": "python",
   "pygments_lexer": "ipython3",
   "version": "3.10.13"
  }
 },
 "nbformat": 4,
 "nbformat_minor": 2
}
